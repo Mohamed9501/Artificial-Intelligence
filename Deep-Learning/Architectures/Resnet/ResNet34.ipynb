{
  "nbformat": 4,
  "nbformat_minor": 0,
  "metadata": {
    "colab": {
      "provenance": []
    },
    "kernelspec": {
      "name": "python3",
      "display_name": "Python 3"
    },
    "language_info": {
      "name": "python"
    },
    "accelerator": "GPU",
    "gpuClass": "standard"
  },
  "cells": [
    {
      "cell_type": "code",
      "execution_count": 23,
      "metadata": {
        "id": "Xc3vMBCLJAlg"
      },
      "outputs": [],
      "source": [
        "import tensorflow as tf\n",
        "import numpy as np\n",
        "import matplotlib.pyplot as plt\n",
        "from keras.utils.np_utils import to_categorical"
      ]
    },
    {
      "cell_type": "code",
      "source": [
        "def identity_block(x, filter):\n",
        "    x_input = x\n",
        "    # Layer 1\n",
        "    x = tf.keras.layers.Conv2D(filter, (1,1), padding = 'same')(x)\n",
        "    x = tf.keras.layers.BatchNormalization(axis=3)(x) # note that batch normalization should be performed over channels after a convolution,\n",
        "    # for example if your dimension order are [batch, height, width, channel], you want to use axis=3. Basically you choose the axis index which represents your channels.\n",
        "    x = tf.keras.layers.Activation('relu')(x)\n",
        "    # Layer 2\n",
        "    x = tf.keras.layers.Conv2D(filter, (3,3), padding = 'same')(x)\n",
        "    x = tf.keras.layers.BatchNormalization(axis=3)(x)\n",
        "\n",
        "    # Add Residue\n",
        "    x = tf.keras.layers.Add()([x, x_input])     \n",
        "    x = tf.keras.layers.Activation('relu')(x)\n",
        "    return x"
      ],
      "metadata": {
        "id": "_tp4g3ONJ3Ar"
      },
      "execution_count": 24,
      "outputs": []
    },
    {
      "cell_type": "code",
      "source": [
        "def conv_block(x, filter):\n",
        "    x_conv = tf.keras.layers.Conv2D(filter, (1,1), padding = 'same')(x)\n",
        "    # Layer 1\n",
        "    x = tf.keras.layers.Conv2D(filter, (1,1), padding = 'same')(x)\n",
        "    x = tf.keras.layers.BatchNormalization(axis=3)(x) # note that batch normalization should be performed over channels after a convolution,\n",
        "    # for example if your dimension order are [batch, height, width, channel], you want to use axis=3. Basically you choose the axis index which represents your channels.\n",
        "    x = tf.keras.layers.Activation('relu')(x)\n",
        "    # Layer 2\n",
        "    x = tf.keras.layers.Conv2D(filter, (3,3), padding = 'same')(x)\n",
        "    x = tf.keras.layers.BatchNormalization(axis=3)(x)\n",
        "\n",
        "    # Add Residue\n",
        "    x = tf.keras.layers.Add()([x, x_conv])     \n",
        "    x = tf.keras.layers.Activation('relu')(x)\n",
        "    return x"
      ],
      "metadata": {
        "id": "F0SiwWlKKyAE"
      },
      "execution_count": 19,
      "outputs": []
    },
    {
      "cell_type": "code",
      "source": [
        "def ResNet34():\n",
        "  block_layers = [3, 4, 6, 3]\n",
        "  shape = (32, 32, 3)\n",
        "  n_classes = 10\n",
        "  filter_size = 64\n",
        "  # Define the input layer\n",
        "  x_input = tf.keras.layers.Input(shape) \n",
        "  x = tf.keras.layers.ZeroPadding2D((3, 3))(x_input) \n",
        "  # Define the first convoultional layer with it's maxpooling\n",
        "  x = tf.keras.layers.Conv2D(64, (7,7),strides = 2, padding = 'same')(x)\n",
        "  x = tf.keras.layers.BatchNormalization()(x)\n",
        "  x = tf.keras.layers.Activation('relu')(x)\n",
        "  x = tf.keras.layers.MaxPool2D(pool_size=3, strides=2, padding='same')(x)\n",
        "\n",
        "  for i in range(len(block_layers)):\n",
        "\n",
        "      if(i==0):\n",
        "        # No conv block is required  for the first group\n",
        "        for j in range(block_layers[i]):\n",
        "          x = identity_block(x, filter_size)\n",
        "        else:\n",
        "          filter_size = filter_size * 2\n",
        "          x = conv_block(x, filter_size)\n",
        "          for j in range(block_layers[i]-1):\n",
        "            x = identity_block(x, filter_size)\n",
        "  # Develop the final layers\n",
        "  x = tf.keras.layers.AveragePooling2D((2,2), padding = 'same')(x)\n",
        "  x = tf.keras.layers.Flatten()(x)\n",
        "  x = tf.keras.layers.Dense(512, activation = 'relu')(x)\n",
        "  x = tf.keras.layers.Dense(n_classes, activation = 'softmax')(x)\n",
        "\n",
        "  model = tf.keras.models.Model(inputs = x_input, outputs = x, name = \"ResNet34\")\n",
        "  return model\n",
        "\n"
      ],
      "metadata": {
        "id": "n1Le-0MNNC-S"
      },
      "execution_count": 20,
      "outputs": []
    },
    {
      "cell_type": "code",
      "source": [
        "model = ResNet34()\n",
        "model.summary()"
      ],
      "metadata": {
        "id": "MNTMSSUVPIhr"
      },
      "execution_count": null,
      "outputs": []
    },
    {
      "cell_type": "code",
      "source": [
        "(x_train, y_train), (x_test, y_test) = tf.keras.datasets.cifar10.load_data()"
      ],
      "metadata": {
        "id": "UrdAQ5YfUszC"
      },
      "execution_count": null,
      "outputs": []
    },
    {
      "cell_type": "code",
      "source": [
        "# Transform label indices to one-hot encoded vectors\n",
        "y_train = to_categorical(y_train, num_classes=10)\n",
        "y_test = to_categorical(y_test, num_classes=10)\n",
        "\n",
        "# Normalization of pixel values (to [0-1] range)\n",
        "x_train = x_train.astype('float32')\n",
        "x_test = x_test.astype('float32')\n",
        "x_train /= 255\n",
        "x_test /= 255"
      ],
      "metadata": {
        "id": "ibPtAveNVAIS"
      },
      "execution_count": 7,
      "outputs": []
    },
    {
      "cell_type": "code",
      "source": [
        "sgd = tf.keras.optimizers.legacy.SGD(lr=0.01, decay=1e-6, momentum=0.9, nesterov=True)\n",
        "\n",
        "model.compile(optimizer=sgd,\n",
        "              loss='categorical_crossentropy',\n",
        "              metrics=['accuracy'])"
      ],
      "metadata": {
        "id": "4EE7ydK9Vkhc"
      },
      "execution_count": null,
      "outputs": []
    },
    {
      "cell_type": "code",
      "source": [
        "history = model.fit(x_train,y_train, epochs=15, batch_size=32, verbose=2, validation_split=0.2)"
      ],
      "metadata": {
        "id": "QA3NLEKyWV2B"
      },
      "execution_count": null,
      "outputs": []
    },
    {
      "cell_type": "code",
      "source": [
        "plt.plot(history.history['loss'])\n",
        "plt.plot(history.history['val_loss'])\n",
        "plt.title('model loss')\n",
        "plt.ylabel('loss')\n",
        "plt.xlabel('epoch')\n",
        "plt.legend(['train', 'validation'], loc='upper left')\n",
        "plt.show()"
      ],
      "metadata": {
        "id": "ru7JQ6ESWpUp"
      },
      "execution_count": null,
      "outputs": []
    },
    {
      "cell_type": "code",
      "source": [
        "plt.plot(history.history['accuracy'])\n",
        "plt.plot(history.history['val_accuracy'])\n",
        "plt.title('model accuracy')\n",
        "plt.ylabel('accuracy')\n",
        "plt.xlabel('epoch')\n",
        "plt.legend(['train', 'validation'], loc='upper left')\n",
        "plt.show()"
      ],
      "metadata": {
        "id": "YJ9R6yE8AL3B"
      },
      "execution_count": null,
      "outputs": []
    }
  ]
}