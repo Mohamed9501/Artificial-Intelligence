{
  "nbformat": 4,
  "nbformat_minor": 0,
  "metadata": {
    "colab": {
      "provenance": [],
      "authorship_tag": "ABX9TyMRpan2jRQcuAvNKSgsIIVA",
      "include_colab_link": true
    },
    "kernelspec": {
      "name": "python3",
      "display_name": "Python 3"
    },
    "language_info": {
      "name": "python"
    },
    "accelerator": "GPU",
    "gpuClass": "standard"
  },
  "cells": [
    {
      "cell_type": "markdown",
      "metadata": {
        "id": "view-in-github",
        "colab_type": "text"
      },
      "source": [
        "<a href=\"https://colab.research.google.com/github/Mohamed9501/Artificial-Intelligence/blob/main/LeNet5.ipynb\" target=\"_parent\"><img src=\"https://colab.research.google.com/assets/colab-badge.svg\" alt=\"Open In Colab\"/></a>"
      ]
    },
    {
      "cell_type": "code",
      "execution_count": 49,
      "metadata": {
        "id": "G0Jr1En_ASds"
      },
      "outputs": [],
      "source": [
        "# Imports\n",
        "import tensorflow as tf\n",
        "import matplotlib.pyplot as plt\n",
        "from tensorflow import keras\n",
        "from keras.layers import Dense, Conv2D, Flatten, Dropout, MaxPooling2D, AveragePooling2D, Activation\n",
        "from keras.models import Sequential\n",
        "from keras.losses import sparse_categorical_crossentropy\n",
        "from keras import datasets"
      ]
    },
    {
      "cell_type": "code",
      "source": [
        "# Load Data\n",
        "(x_train,y_train),(x_test,y_test) = datasets.mnist.load_data()\n",
        "# Data Padding to have a shape of 32x32 instead of 28x28\n",
        "x_train = tf.pad(x_train, [[0, 0], [2,2], [2,2]])\n",
        "x_test = tf.pad(x_test, [[0, 0], [2,2], [2,2]])\n",
        "# Normalization\n",
        "x_train = x_train / 255\n",
        "x_test = x_test / 255\n",
        "# Check Shape\n",
        "print(x_train.shape)\n",
        "print(x_test.shape)"
      ],
      "metadata": {
        "colab": {
          "base_uri": "https://localhost:8080/"
        },
        "id": "0OYFR3lIBd94",
        "outputId": "9d4cee55-bcd6-4d10-addb-5386476bb3dd"
      },
      "execution_count": 45,
      "outputs": [
        {
          "output_type": "stream",
          "name": "stdout",
          "text": [
            "(60000, 32, 32)\n",
            "(10000, 32, 32)\n"
          ]
        }
      ]
    },
    {
      "cell_type": "code",
      "source": [
        "# Add an extra channel dimension for the convolution input\n",
        "x_train = tf.expand_dims(x_train, axis=3, name=None)\n",
        "x_test = tf.expand_dims(x_test, axis=3, name=None)\n",
        "x_train.shape"
      ],
      "metadata": {
        "colab": {
          "base_uri": "https://localhost:8080/"
        },
        "id": "fjfGGOqaCOza",
        "outputId": "f1453a5e-30e3-46ab-a1aa-b43f9484f860"
      },
      "execution_count": 46,
      "outputs": [
        {
          "output_type": "execute_result",
          "data": {
            "text/plain": [
              "TensorShape([60000, 32, 32, 1])"
            ]
          },
          "metadata": {},
          "execution_count": 46
        }
      ]
    },
    {
      "cell_type": "code",
      "source": [
        "# Take 2000 images out of 60000 to be validation images.\n",
        "x_train = x_train[0:x_train.shape[0]-2000,:,:,:] \n",
        "y_train = y_train[0:x_train.shape[0]-2000]\n",
        "x_val = x_train[x_train.shape[0]-2000:x_train.shape[0],:,:,:] \n",
        "y_val = y_train[x_train.shape[0]-2000:x_train.shape[0]:] "
      ],
      "metadata": {
        "id": "g47wNN3PCmix"
      },
      "execution_count": 47,
      "outputs": []
    },
    {
      "cell_type": "code",
      "source": [
        "model = Sequential()\n",
        "model.add(Conv2D(6, kernel_size=5, strides=1, activation='tanh', input_shape=x_train.shape[1:]))\n",
        "model.add(AveragePooling2D(2))\n",
        "model.add(Activation('sigmoid'))\n",
        "model.add(Conv2D(16, kernel_size=5, strides=1, activation='tanh'))\n",
        "model.add(AveragePooling2D(2))\n",
        "model.add(Activation('sigmoid'))\n",
        "model.add(Conv2D(120, kernel_size=5, strides=1, activation='tanh'))\n",
        "model.add(Flatten())\n",
        "model.add(Dense(84, activation='tanh'))\n",
        "model.add(Dense(10, activation='softmax'))"
      ],
      "metadata": {
        "id": "ADBFD8IKCzWR"
      },
      "execution_count": 48,
      "outputs": []
    },
    {
      "cell_type": "code",
      "source": [
        "model.summary()"
      ],
      "metadata": {
        "colab": {
          "base_uri": "https://localhost:8080/"
        },
        "id": "BxXFNX4Y3pWf",
        "outputId": "8ec575d6-1372-494c-e30b-a38cb6b41de7"
      },
      "execution_count": 43,
      "outputs": [
        {
          "output_type": "stream",
          "name": "stdout",
          "text": [
            "Model: \"sequential_3\"\n",
            "_________________________________________________________________\n",
            " Layer (type)                Output Shape              Param #   \n",
            "=================================================================\n",
            " conv2d_9 (Conv2D)           (None, 28, 28, 6)         156       \n",
            "                                                                 \n",
            " average_pooling2d_6 (Averag  (None, 14, 14, 6)        0         \n",
            " ePooling2D)                                                     \n",
            "                                                                 \n",
            " activation_6 (Activation)   (None, 14, 14, 6)         0         \n",
            "                                                                 \n",
            " conv2d_10 (Conv2D)          (None, 10, 10, 16)        2416      \n",
            "                                                                 \n",
            " average_pooling2d_7 (Averag  (None, 5, 5, 16)         0         \n",
            " ePooling2D)                                                     \n",
            "                                                                 \n",
            " activation_7 (Activation)   (None, 5, 5, 16)          0         \n",
            "                                                                 \n",
            " conv2d_11 (Conv2D)          (None, 1, 1, 120)         48120     \n",
            "                                                                 \n",
            " flatten_3 (Flatten)         (None, 120)               0         \n",
            "                                                                 \n",
            " dense_6 (Dense)             (None, 84)                10164     \n",
            "                                                                 \n",
            " dense_7 (Dense)             (None, 10)                850       \n",
            "                                                                 \n",
            "=================================================================\n",
            "Total params: 61,706\n",
            "Trainable params: 61,706\n",
            "Non-trainable params: 0\n",
            "_________________________________________________________________\n"
          ]
        }
      ]
    },
    {
      "cell_type": "code",
      "source": [
        "model.compile(optimizer='adam', loss=sparse_categorical_crossentropy, metrics=['accuracy'])\n",
        "history = model.fit(x_train, y_train, batch_size=64, epochs=50, validation_data=(x_val, y_val))"
      ],
      "metadata": {
        "colab": {
          "base_uri": "https://localhost:8080/"
        },
        "id": "ZDl6ZHtTEu4W",
        "outputId": "92c72827-2a54-4ae1-e264-990d0f44d08b"
      },
      "execution_count": 17,
      "outputs": [
        {
          "output_type": "stream",
          "name": "stdout",
          "text": [
            "Epoch 1/40\n",
            "907/907 [==============================] - 4s 4ms/step - loss: 1.5416 - accuracy: 0.4344 - val_loss: 0.3781 - val_accuracy: 0.8930\n",
            "Epoch 2/40\n",
            "907/907 [==============================] - 3s 4ms/step - loss: 0.3740 - accuracy: 0.8826 - val_loss: 0.1963 - val_accuracy: 0.9450\n",
            "Epoch 3/40\n",
            "907/907 [==============================] - 3s 4ms/step - loss: 0.2893 - accuracy: 0.9084 - val_loss: 0.1625 - val_accuracy: 0.9565\n",
            "Epoch 4/40\n",
            "907/907 [==============================] - 3s 4ms/step - loss: 0.2421 - accuracy: 0.9226 - val_loss: 0.1467 - val_accuracy: 0.9605\n",
            "Epoch 5/40\n",
            "907/907 [==============================] - 3s 4ms/step - loss: 0.2153 - accuracy: 0.9309 - val_loss: 0.1652 - val_accuracy: 0.9575\n",
            "Epoch 6/40\n",
            "907/907 [==============================] - 3s 4ms/step - loss: 0.1949 - accuracy: 0.9383 - val_loss: 0.1106 - val_accuracy: 0.9725\n",
            "Epoch 7/40\n",
            "907/907 [==============================] - 3s 4ms/step - loss: 0.1773 - accuracy: 0.9438 - val_loss: 0.1014 - val_accuracy: 0.9725\n",
            "Epoch 8/40\n",
            "907/907 [==============================] - 3s 4ms/step - loss: 0.1641 - accuracy: 0.9488 - val_loss: 0.1079 - val_accuracy: 0.9700\n",
            "Epoch 9/40\n",
            "907/907 [==============================] - 3s 4ms/step - loss: 0.1523 - accuracy: 0.9523 - val_loss: 0.1156 - val_accuracy: 0.9665\n",
            "Epoch 10/40\n",
            "907/907 [==============================] - 3s 4ms/step - loss: 0.1434 - accuracy: 0.9544 - val_loss: 0.0968 - val_accuracy: 0.9755\n",
            "Epoch 11/40\n",
            "907/907 [==============================] - 4s 4ms/step - loss: 0.1350 - accuracy: 0.9577 - val_loss: 0.1026 - val_accuracy: 0.9750\n",
            "Epoch 12/40\n",
            "907/907 [==============================] - 3s 4ms/step - loss: 0.1248 - accuracy: 0.9603 - val_loss: 0.1053 - val_accuracy: 0.9665\n",
            "Epoch 13/40\n",
            "907/907 [==============================] - 3s 4ms/step - loss: 0.1225 - accuracy: 0.9609 - val_loss: 0.0769 - val_accuracy: 0.9810\n",
            "Epoch 14/40\n",
            "907/907 [==============================] - 3s 4ms/step - loss: 0.1152 - accuracy: 0.9632 - val_loss: 0.0775 - val_accuracy: 0.9795\n",
            "Epoch 15/40\n",
            "907/907 [==============================] - 3s 4ms/step - loss: 0.1098 - accuracy: 0.9652 - val_loss: 0.0980 - val_accuracy: 0.9765\n",
            "Epoch 16/40\n",
            "907/907 [==============================] - 3s 4ms/step - loss: 0.1028 - accuracy: 0.9675 - val_loss: 0.0740 - val_accuracy: 0.9800\n",
            "Epoch 17/40\n",
            "907/907 [==============================] - 3s 4ms/step - loss: 0.0994 - accuracy: 0.9683 - val_loss: 0.0893 - val_accuracy: 0.9760\n",
            "Epoch 18/40\n",
            "907/907 [==============================] - 3s 4ms/step - loss: 0.0984 - accuracy: 0.9682 - val_loss: 0.0985 - val_accuracy: 0.9705\n",
            "Epoch 19/40\n",
            "907/907 [==============================] - 3s 4ms/step - loss: 0.0937 - accuracy: 0.9695 - val_loss: 0.0761 - val_accuracy: 0.9790\n",
            "Epoch 20/40\n",
            "907/907 [==============================] - 3s 4ms/step - loss: 0.0919 - accuracy: 0.9709 - val_loss: 0.0804 - val_accuracy: 0.9805\n",
            "Epoch 21/40\n",
            "907/907 [==============================] - 3s 4ms/step - loss: 0.0888 - accuracy: 0.9722 - val_loss: 0.0778 - val_accuracy: 0.9775\n",
            "Epoch 22/40\n",
            "907/907 [==============================] - 3s 4ms/step - loss: 0.0842 - accuracy: 0.9734 - val_loss: 0.0683 - val_accuracy: 0.9845\n",
            "Epoch 23/40\n",
            "907/907 [==============================] - 3s 4ms/step - loss: 0.0819 - accuracy: 0.9742 - val_loss: 0.0867 - val_accuracy: 0.9800\n",
            "Epoch 24/40\n",
            "907/907 [==============================] - 3s 4ms/step - loss: 0.0780 - accuracy: 0.9751 - val_loss: 0.0878 - val_accuracy: 0.9780\n",
            "Epoch 25/40\n",
            "907/907 [==============================] - 3s 4ms/step - loss: 0.0783 - accuracy: 0.9748 - val_loss: 0.0656 - val_accuracy: 0.9830\n",
            "Epoch 26/40\n",
            "907/907 [==============================] - 3s 4ms/step - loss: 0.0750 - accuracy: 0.9761 - val_loss: 0.0978 - val_accuracy: 0.9760\n",
            "Epoch 27/40\n",
            "907/907 [==============================] - 3s 4ms/step - loss: 0.0751 - accuracy: 0.9759 - val_loss: 0.0835 - val_accuracy: 0.9800\n",
            "Epoch 28/40\n",
            "907/907 [==============================] - 3s 4ms/step - loss: 0.0743 - accuracy: 0.9755 - val_loss: 0.0769 - val_accuracy: 0.9810\n",
            "Epoch 29/40\n",
            "907/907 [==============================] - 3s 4ms/step - loss: 0.0723 - accuracy: 0.9772 - val_loss: 0.0814 - val_accuracy: 0.9795\n",
            "Epoch 30/40\n",
            "907/907 [==============================] - 3s 4ms/step - loss: 0.0669 - accuracy: 0.9786 - val_loss: 0.0824 - val_accuracy: 0.9805\n",
            "Epoch 31/40\n",
            "907/907 [==============================] - 3s 4ms/step - loss: 0.0631 - accuracy: 0.9802 - val_loss: 0.0728 - val_accuracy: 0.9840\n",
            "Epoch 32/40\n",
            "907/907 [==============================] - 3s 4ms/step - loss: 0.0696 - accuracy: 0.9776 - val_loss: 0.0654 - val_accuracy: 0.9820\n",
            "Epoch 33/40\n",
            "907/907 [==============================] - 3s 4ms/step - loss: 0.0636 - accuracy: 0.9798 - val_loss: 0.0650 - val_accuracy: 0.9805\n",
            "Epoch 34/40\n",
            "907/907 [==============================] - 3s 4ms/step - loss: 0.0639 - accuracy: 0.9799 - val_loss: 0.0671 - val_accuracy: 0.9855\n",
            "Epoch 35/40\n",
            "907/907 [==============================] - 3s 4ms/step - loss: 0.0628 - accuracy: 0.9800 - val_loss: 0.0720 - val_accuracy: 0.9785\n",
            "Epoch 36/40\n",
            "907/907 [==============================] - 3s 4ms/step - loss: 0.0619 - accuracy: 0.9803 - val_loss: 0.0713 - val_accuracy: 0.9825\n",
            "Epoch 37/40\n",
            "907/907 [==============================] - 3s 4ms/step - loss: 0.0586 - accuracy: 0.9811 - val_loss: 0.0723 - val_accuracy: 0.9840\n",
            "Epoch 38/40\n",
            "907/907 [==============================] - 3s 4ms/step - loss: 0.0577 - accuracy: 0.9809 - val_loss: 0.0748 - val_accuracy: 0.9825\n",
            "Epoch 39/40\n",
            "907/907 [==============================] - 3s 4ms/step - loss: 0.0589 - accuracy: 0.9810 - val_loss: 0.0805 - val_accuracy: 0.9780\n",
            "Epoch 40/40\n",
            "907/907 [==============================] - 3s 4ms/step - loss: 0.0551 - accuracy: 0.9826 - val_loss: 0.0951 - val_accuracy: 0.9755\n"
          ]
        }
      ]
    },
    {
      "cell_type": "code",
      "source": [
        "model.evaluate(x_test, y_test)"
      ],
      "metadata": {
        "colab": {
          "base_uri": "https://localhost:8080/"
        },
        "id": "Jdh6mQFeGa69",
        "outputId": "94257010-679e-42bb-819c-9658f811a7ba"
      },
      "execution_count": 19,
      "outputs": [
        {
          "output_type": "stream",
          "name": "stdout",
          "text": [
            "313/313 [==============================] - 1s 2ms/step - loss: 0.0942 - accuracy: 0.9729\n"
          ]
        },
        {
          "output_type": "execute_result",
          "data": {
            "text/plain": [
              "[0.09423103928565979, 0.9728999733924866]"
            ]
          },
          "metadata": {},
          "execution_count": 19
        }
      ]
    },
    {
      "cell_type": "code",
      "source": [
        "fig, axs = plt.subplots(1, 1, figsize=(5,5))\n",
        "axs.plot(history.history['loss'])\n",
        "axs.plot(history.history['val_loss'])\n",
        "axs.title.set_text('Training Loss vs Validation Loss')\n",
        "axs.legend(['Training', 'Validation'])\n"
      ],
      "metadata": {
        "colab": {
          "base_uri": "https://localhost:8080/",
          "height": 353
        },
        "id": "PTld6BwoE5JG",
        "outputId": "e6088742-2d1c-4f6a-f1d0-f69c23725e65"
      },
      "execution_count": 56,
      "outputs": [
        {
          "output_type": "execute_result",
          "data": {
            "text/plain": [
              "<matplotlib.legend.Legend at 0x7f6ba20929d0>"
            ]
          },
          "metadata": {},
          "execution_count": 56
        },
        {
          "output_type": "display_data",
          "data": {
            "text/plain": [
              "<Figure size 360x360 with 1 Axes>"
            ],
            "image/png": "[encoded data removed]"
          },
          "metadata": {
            "needs_background": "light"
          }
        }
      ]
    },
    {
      "cell_type": "code",
      "source": [
        "fig, axs = plt.subplots(1, 1, figsize=(5,5))\n",
        "axs.plot(history.history['accuracy'])\n",
        "axs.plot(history.history['val_accuracy']) \n",
        "axs.title.set_text('Training Accuracy vs Validation Accuracy')\n",
        "axs.legend(['Training', 'Validation'])\n"
      ],
      "metadata": {
        "colab": {
          "base_uri": "https://localhost:8080/",
          "height": 353
        },
        "id": "dimhL0MJ5arn",
        "outputId": "81f21648-aaee-42c3-f49d-f623029f3fde"
      },
      "execution_count": 57,
      "outputs": [
        {
          "output_type": "execute_result",
          "data": {
            "text/plain": [
              "<matplotlib.legend.Legend at 0x7f6ba219d790>"
            ]
          },
          "metadata": {},
          "execution_count": 57
        },
        {
          "output_type": "display_data",
          "data": {
            "text/plain": [
              "<Figure size 360x360 with 1 Axes>"
            ],
            "image/png": "[encoded data removed]"
          },
          "metadata": {
            "needs_background": "light"
          }
        }
      ]
    },
    {
      "cell_type": "markdown",
      "source": [
        "References:\n",
        "https://towardsdatascience.com/understanding-and-implementing-lenet-5-cnn-architecture-deep-learning-a2d531ebc342"
      ],
      "metadata": {
        "id": "wyXRmFwO6D_c"
      }
    }
  ]
}